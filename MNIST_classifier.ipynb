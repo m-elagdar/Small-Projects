{
 "cells": [
  {
   "cell_type": "code",
   "execution_count": null,
   "metadata": {
    "collapsed": true
   },
   "outputs": [],
   "source": [
    "import tensorflow as tf\n",
    "import numpy as np\n",
    "import matplotlib.pyplot as plt\n",
    "from IPython import display\n",
    "import os\n",
    "import idx2numpy\n",
    "import time"
   ]
  },
  {
   "cell_type": "code",
   "execution_count": 2,
   "metadata": {
    "collapsed": true
   },
   "outputs": [],
   "source": [
    "data_set_path = r\"F:/data_sets/MNIST/\""
   ]
  },
  {
   "cell_type": "code",
   "execution_count": 3,
   "metadata": {
    "collapsed": true
   },
   "outputs": [],
   "source": [
    "def read_idx_files(*file_names):\n",
    "    data = []\n",
    "    for file_name in file_names:\n",
    "        array = idx2numpy.convert_from_file(data_set_path + file_name)\n",
    "        if(array.ndim == 3): array = np.expand_dims(array, axis=3) #Add a channel dimension (needed for a CNN)\n",
    "        data.append(array)\n",
    "    return data\n",
    "train_images, train_labels, test_images, test_labels = read_idx_files(\n",
    "    \"train-images.idx3-ubyte\", \"train-labels.idx1-ubyte\", \"t10k-images.idx3-ubyte\", \"t10k-labels.idx1-ubyte\")"
   ]
  },
  {
   "cell_type": "code",
   "execution_count": 4,
   "metadata": {
    "collapsed": true
   },
   "outputs": [
    {
     "name": "stdout",
     "output_type": "stream",
     "text": [
      "(28, 28)\n"
     ]
    }
   ],
   "source": [
    "image_height, image_width = train_images.shape[1:3]; print(train_images.shape[1:3])"
   ]
  },
  {
   "cell_type": "code",
   "execution_count": 5,
   "metadata": {},
   "outputs": [],
   "source": [
    "def sec2clock(s): \n",
    "    m, s = divmod(s, 60); h, m = divmod(m, 60); return \"{:2.0f}:{:2.0f}:{:2.0f}\".format(h, m, s)"
   ]
  },
  {
   "cell_type": "code",
   "execution_count": 6,
   "metadata": {},
   "outputs": [],
   "source": [
    "graph_batch_size = None\n",
    "graph = tf.Graph()\n",
    "with graph.as_default():\n",
    "    tf.set_random_seed(0)\n",
    "    images = tf.placeholder(tf.float32, (graph_batch_size, image_height, image_width, 1))\n",
    "    labels = tf.placeholder(tf.int32, (graph_batch_size,))\n",
    "    conv1_filter = tf.Variable(tf.random_uniform((3, 3, 1, 5), 0.0001, 0.001))\n",
    "    nn = conv1 = tf.nn.conv2d(images, conv1_filter, (1, 1, 1, 1), \"SAME\")\n",
    "    nn = pool1 = tf.nn.max_pool(nn, (1, 2, 2, 1), (1, 2, 2, 1), \"SAME\")\n",
    "#     nn = relu1 = tf.nn.relu(nn)\n",
    "    conv2_filter = tf.Variable(tf.random_uniform((3, 3, 5, 5), 0.0001, 0.001))\n",
    "    nn = conv2 = tf.nn.conv2d(nn, conv2_filter, (1, 1, 1, 1), \"SAME\")\n",
    "    nn = pool2 = tf.nn.max_pool(nn, (1, 2, 2, 1), (1, 2, 2, 1), \"SAME\")\n",
    "#     layer2 = relu2 = tf.nn.relu(nn)\n",
    "    conv3_filter = tf.Variable(tf.random_uniform((3, 3, 5, 10), 0.0001, 0.001))\n",
    "    nn = conv3 = tf.nn.conv2d(nn, conv3_filter, (1, 1, 1, 1), \"SAME\")\n",
    "    nn = pool3 = tf.nn.max_pool(nn, (1, 2, 2, 1), (1, 2, 2, 1), \"SAME\")\n",
    "#     nn = relu3 = tf.nn.relu(nn)\n",
    "    conv4_filter = tf.Variable(tf.random_uniform((3, 3, 10, 10), 0.0001, 0.001))\n",
    "    nn = conv4 = tf.nn.conv2d(nn, conv4_filter, (1, 1, 1, 1), \"SAME\")\n",
    "    nn = pool4 = tf.nn.max_pool(nn, (1, 2, 2, 1), (1, 2, 2, 1), \"SAME\")\n",
    "#     nn = relu4 = tf.nn.relu(nn)\n",
    "    conv5_filter = tf.Variable(tf.random_uniform((3, 3, 10, 10), 0.0001, 0.001))\n",
    "    nn = conv5 = tf.nn.conv2d(nn, conv5_filter, (1, 1, 1, 1), \"SAME\")\n",
    "    nn = pool5 = tf.nn.max_pool(nn, (1, 2, 2, 1), (1, 2, 2, 1), \"SAME\")\n",
    "#     nn = relu5 = tf.nn.relu(nn)\n",
    "    dense_inputs = tf.reshape(tf.transpose(nn, (0,3,1,2)), (-1, nn.shape[1].value*nn.shape[2].value))\n",
    "    dense_weights = tf.Variable(tf.random_uniform((dense_inputs.shape[1].value, 1)))\n",
    "    dense_bias = tf.Variable(tf.random_uniform((1, 10)))\n",
    "    dense = tf.matmul(dense_inputs, dense_weights)\n",
    "    dense = tf.reshape(dense, (-1, 10))\n",
    "    dense += dense_bias\n",
    "    probs = tf.nn.softmax(dense)\n",
    "    loss = tf.nn.sparse_softmax_cross_entropy_with_logits(logits=dense, labels=labels)\n",
    "    opt = tf.train.AdamOptimizer().minimize(loss)\n",
    "    init = tf.global_variables_initializer()\n",
    "# trial_name = \"na\"\n",
    "# sum_writer = tf.summary.FileWriter(os.path.join(log_dir, trial_name, \"TB\"), graph)\n",
    "# sum_writer.flush()"
   ]
  },
  {
   "cell_type": "code",
   "execution_count": 7,
   "metadata": {
    "collapsed": true
   },
   "outputs": [],
   "source": [
    "batch_size = 25"
   ]
  },
  {
   "cell_type": "code",
   "execution_count": 8,
   "metadata": {},
   "outputs": [
    {
     "data": {
      "image/png": "[encoded data removed]",
      "text/plain": [
       "<matplotlib.figure.Figure at 0xc45f20f5f8>"
      ]
     },
     "metadata": {},
     "output_type": "display_data"
    },
    {
     "data": {
      "text/plain": [
       "iteration: 100  -  train accuracy: 0.988  -  execution time:  1: 9:15        "
      ]
     },
     "metadata": {},
     "output_type": "display_data"
    }
   ],
   "source": [
    "sess = tf.Session(graph=graph)\n",
    "sess.run(init)\n",
    "total_iters = 0; total_time = 0; accuracies = []; x_axis = []\n",
    "\n",
    "iters = 100\n",
    "start_time = time.time()\n",
    "count = train_labels.shape[0]\n",
    "loss_np = np.zeros(count)\n",
    "for i in range(total_iters, total_iters+iters):\n",
    "    for j in range(int(np.ceil(count/batch_size))):\n",
    "        start, end = (j)*batch_size, min((j+1)*batch_size, count)\n",
    "        inputs, targets = train_images[start:end], train_labels[start:end]\n",
    "        loss_np[start:end], _ = sess.run((loss, opt), feed_dict={images : inputs, labels : targets})\n",
    "    accuracies.append(np.mean(np.exp(-loss_np)))\n",
    "    \n",
    "    eta = \"  -  eta: {}\".format(sec2clock((time.time()-start_time)*(total_iters+iters-i-1)/(i-total_iters+1)))\n",
    "    exec_time = \"  -  execution time: {}\".format(sec2clock(total_time + time.time()-start_time))\n",
    "    stats = \"iteration: {}  -  train accuracy: {:.3f}{}{}\".format(\n",
    "        i+1, accuracies[-1], eta if i<(total_iters+iters-1) else exec_time, \" \"*8)\n",
    "    # here accuracy is quite similar to mean of correct class probabilities\n",
    "    x_axis.append(i+1)\n",
    "    plt.gca().cla()\n",
    "    plt.plot(x_axis, accuracies)\n",
    "    display.clear_output(wait=True)\n",
    "    display.display(plt.gcf())\n",
    "    display.display_pretty(stats, raw=True)\n",
    "plt.close()\n",
    "total_iters+=iters\n",
    "total_time += time.time() - start_time"
   ]
  },
  {
   "cell_type": "code",
   "execution_count": 9,
   "metadata": {
    "scrolled": true
   },
   "outputs": [
    {
     "name": "stdout",
     "output_type": "stream",
     "text": [
      "train accuracy: 0.993  -  test accuracy: 0.984\n"
     ]
    }
   ],
   "source": [
    "max_length = 1000\n",
    "accuracies2 = []\n",
    "for p in [[train_images, train_labels], [test_images, test_labels]]:\n",
    "    for i in range(int(np.ceil(len(p[0])/max_length))):\n",
    "        start, end = i * max_length, min((i+1) * max_length, len(p[0]))\n",
    "        images_batch = p[0][start:end]; labels_batch = p[1][start:end]\n",
    "        probs_np_batch, = sess.run([probs], feed_dict={images : images_batch, labels : labels_batch})\n",
    "        probs_np = np.concatenate((probs_np, probs_np_batch)) if i!=0 else probs_np_batch\n",
    "    op_labels = np.argmax(probs_np, 1)\n",
    "    accuracies2.append(np.mean(op_labels==p[1]))\n",
    "print(\"train accuracy: {:.3}  -  test accuracy: {:.3}\".format(accuracies2[0], accuracies2[1]))\n",
    "# here accuracy is the count of correct class examples per all examples"
   ]
  }
 ],
 "metadata": {
  "kernelspec": {
   "display_name": "iPython 3.6",
   "language": "python",
   "name": "ipython36"
  },
  "language_info": {
   "codemirror_mode": {
    "name": "ipython",
    "version": 3
   },
   "file_extension": ".py",
   "mimetype": "text/x-python",
   "name": "python",
   "nbconvert_exporter": "python",
   "pygments_lexer": "ipython3",
   "version": "3.6.4"
  }
 },
 "nbformat": 4,
 "nbformat_minor": 2
}
